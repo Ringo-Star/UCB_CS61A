{
 "cells": [
  {
   "attachments": {},
   "cell_type": "markdown",
   "metadata": {},
   "source": [
    "#### **Homeworks** ####"
   ]
  },
  {
   "attachments": {},
   "cell_type": "markdown",
   "metadata": {},
   "source": [
    "##### [**HW1**](https://cs61a.org/hw/sol-hw01/) #####"
   ]
  },
  {
   "cell_type": "code",
   "execution_count": null,
   "metadata": {},
   "outputs": [],
   "source": [
    "# Write a function that takes three positive numbers as arguments\n",
    "# returns the sum of the squares of the two smallest numbers.\n",
    "# Use only a single line for the body of the function.\n",
    "def two_of_three(i, j, k):\n",
    "    \"\"\"Return m*m + n*n, where m and n are the two smallest members of the\n",
    "    positive numbers i, j, and k.\n",
    "\n",
    "    >>> two_of_three(1, 2, 3)\n",
    "    5\n",
    "    >>> two_of_three(5, 3, 1)\n",
    "    10\n",
    "    >>> two_of_three(10, 2, 8)\n",
    "    68\n",
    "    >>> two_of_three(5, 5, 5)\n",
    "    50\n",
    "    \"\"\"\n",
    "    return min(i*i+j*j, j*j+k*k, k*k+i*i)"
   ]
  },
  {
   "cell_type": "code",
   "execution_count": null,
   "metadata": {},
   "outputs": [],
   "source": [
    "# Write a function that takes an integer n that is greater than 1 and \n",
    "# returns the largest integer that is smaller than n and evenly divides n.\n",
    "def largest_factor(n):\n",
    "    \"\"\"Return the largest factor of n that is smaller than n.\n",
    "\n",
    "    >>> largest_factor(15) # factors are 1, 3, 5\n",
    "    5\n",
    "    >>> largest_factor(80) # factors are 1, 2, 4, 5, 8, 10, 16, 20, 40\n",
    "    40\n",
    "    >>> largest_factor(13) # factor is 1 since 13 is prime\n",
    "    1\n",
    "    \"\"\"\n",
    "    factor = n-1\n",
    "    while factor > 0:\n",
    "        if n % factor == 0:\n",
    "            return factor\n",
    "        factor -= 1\n",
    "\n",
    "largest_factor(13)"
   ]
  },
  {
   "cell_type": "markdown",
   "metadata": {},
   "source": [
    "**Hailstone**  \n",
    "  Douglas Hofstadter's Pulitzer-prize-winning book, Gödel, Escher, Bach, poses the following mathematical puzzle:  \n",
    "Pick a positive integer n as the start.\n",
    "1. If n is even, divide it by 2.\n",
    "2. If n is odd, multiply it by 3 and add 1.\n",
    "Continue this process until n is 1.  \n",
    "\n",
    "The number n will travel up and down but eventually end at 1 (at least for all numbers that have ever been tried -- nobody has ever proved that the sequence will terminate). Analogously, a hailstone travels up and down in the atmosphere before eventually landing on earth.\n",
    "\n",
    "This sequence of values of n is often called a Hailstone sequence. Write a function that takes a single argument with formal parameter name n, prints out the hailstone sequence starting at n, and returns the number of steps in the sequence:\n",
    "\n"
   ]
  },
  {
   "cell_type": "code",
   "execution_count": null,
   "metadata": {},
   "outputs": [],
   "source": [
    "def hailstone(n):\n",
    "    \"\"\"Print the hailstone sequence starting at n and return its\n",
    "    length.\n",
    "    \"\"\"\n",
    "    length = 1\n",
    "    while n !=1:\n",
    "        if n % 2 ==0:\n",
    "            n = n // 2\n",
    "        else:\n",
    "            n = 3*n + 1\n",
    "        length += 1\n",
    "        print(n)\n",
    "    return length\n",
    "\n",
    "hailstone(11)"
   ]
  },
  {
   "cell_type": "code",
   "execution_count": 5,
   "metadata": {},
   "outputs": [
    {
     "data": {
      "text/plain": [
       "True"
      ]
     },
     "execution_count": 5,
     "metadata": {},
     "output_type": "execute_result"
    }
   ],
   "source": [
    "def xk(c,d):\n",
    "    if c==4:\n",
    "        return 6\n",
    "    elif d >= 4:\n",
    "        return 6+7+c\n",
    "    else:\n",
    "        return 25\n",
    "\n",
    "# xk(10,10) == 23\n",
    "# xk(10,6) == 23\n",
    "# xk(4,6) == 6\n",
    "# xk(0,0) == 25"
   ]
  }
 ],
 "metadata": {
  "kernelspec": {
   "display_name": "Python 3.7.11 ('MLCV')",
   "language": "python",
   "name": "python3"
  },
  "language_info": {
   "codemirror_mode": {
    "name": "ipython",
    "version": 3
   },
   "file_extension": ".py",
   "mimetype": "text/x-python",
   "name": "python",
   "nbconvert_exporter": "python",
   "pygments_lexer": "ipython3",
   "version": "3.7.11 (default, Jul 27 2021, 09:42:29) [MSC v.1916 64 bit (AMD64)]"
  },
  "orig_nbformat": 4,
  "vscode": {
   "interpreter": {
    "hash": "55b4e1546c513ecccf2a47902372bbeb25a4490bebaf169dd426906744ad30e3"
   }
  }
 },
 "nbformat": 4,
 "nbformat_minor": 2
}
