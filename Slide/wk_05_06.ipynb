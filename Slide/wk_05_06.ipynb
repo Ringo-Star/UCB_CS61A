{
 "cells": [
  {
   "attachments": {},
   "cell_type": "markdown",
   "metadata": {},
   "source": [
    "### **Week 5,6: Data Structure** ###"
   ]
  },
  {
   "attachments": {},
   "cell_type": "markdown",
   "metadata": {},
   "source": [
    "#### 1.Sequences [(Slides)](https://cs61a.org/assets/slides/11-Sequences_4pp.pdf) ####"
   ]
  },
  {
   "attachments": {},
   "cell_type": "markdown",
   "metadata": {},
   "source": [
    "##### 1.1 list #####"
   ]
  },
  {
   "cell_type": "code",
   "execution_count": 4,
   "metadata": {},
   "outputs": [
    {
     "name": "stdout",
     "output_type": "stream",
     "text": [
      "[1, [2], 3, 4, 1, [2], 3, 4]\n",
      "2\n"
     ]
    }
   ],
   "source": [
    "# multiple a list\n",
    "l1 = [1,[2], 3, 4]\n",
    "print(l1 * 2)\n",
    "print(l1[1][0])"
   ]
  },
  {
   "cell_type": "code",
   "execution_count": 8,
   "metadata": {},
   "outputs": [
    {
     "name": "stdout",
     "output_type": "stream",
     "text": [
      "True False\n"
     ]
    },
    {
     "data": {
      "text/plain": [
       "False"
      ]
     },
     "execution_count": 8,
     "metadata": {},
     "output_type": "execute_result"
    }
   ],
   "source": [
    "# container methods 'in', it looks for elements in seuqences, not sub-sequences\n",
    "digits = [1,8,2,8]\n",
    "print(1 in digits, 5 in digits)\n",
    "\n",
    "[1,2] in [3,4,[[1,2]]]"
   ]
  },
  {
   "cell_type": "code",
   "execution_count": 20,
   "metadata": {},
   "outputs": [
    {
     "name": "stdout",
     "output_type": "stream",
     "text": [
      "[-5, -4, -3, -2, -1, 0, 1, 2, 3, 4]\n",
      "10\n",
      "Go bears!\n",
      "Go bears!\n",
      "Go bears!\n"
     ]
    }
   ],
   "source": [
    "# range is a type of sequence\n",
    "# range(m,n) looks like a math interval of [m, n)\n",
    "print([i for i in range(-5,5)])\n",
    "print(len([i for i in range(-5,5)]))\n",
    "\n",
    "for _ in range(3): # use an underline to show you do not care about the param.\n",
    "    print('Go bears!')"
   ]
  },
  {
   "cell_type": "code",
   "execution_count": null,
   "metadata": {},
   "outputs": [],
   "source": [
    "# 'for' statements\n",
    "def count(s, value):\n",
    "    \"\"\"Count the  number of times that a number occurs in sequence s.\"\"\"\n",
    "    total, index =0, 0\n",
    "    # while index< len(s):\n",
    "    #     element = s[index]\n",
    "    #     if element == value:\n",
    "    #         total += 1\n",
    "    for element in s:\n",
    "        if element == value:\n",
    "            total += 1\n",
    "\n",
    "    return total"
   ]
  },
  {
   "attachments": {},
   "cell_type": "markdown",
   "metadata": {},
   "source": [
    "##### 1.2 List Comprehension #####"
   ]
  },
  {
   "cell_type": "code",
   "execution_count": 23,
   "metadata": {},
   "outputs": [
    {
     "data": {
      "text/plain": [
       "[6, 8, 10]"
      ]
     },
     "execution_count": 23,
     "metadata": {},
     "output_type": "execute_result"
    }
   ],
   "source": [
    "odds = [1,3,5,7,9]\n",
    "[x+1 for x in odds if x > 4]"
   ]
  },
  {
   "cell_type": "code",
   "execution_count": 24,
   "metadata": {},
   "outputs": [
    {
     "name": "stdout",
     "output_type": "stream",
     "text": [
      "3\n",
      "2\n",
      "1\n",
      "0\n",
      "1\n"
     ]
    },
    {
     "data": {
      "text/plain": [
       "4"
      ]
     },
     "execution_count": 24,
     "metadata": {},
     "output_type": "execute_result"
    }
   ],
   "source": [
    "def virfib_sq(n):\n",
    "    print(n)\n",
    "    if n <= 1:\n",
    "        return n\n",
    "    return (virfib_sq(n - 1) + virfib_sq(n - 2)) ** 2\n",
    "\n",
    "r3 = virfib_sq(3)\n",
    "r3"
   ]
  },
  {
   "cell_type": "code",
   "execution_count": 27,
   "metadata": {},
   "outputs": [
    {
     "data": {
      "text/plain": [
       "[5, 4, 3, 2, 1]"
      ]
     },
     "execution_count": 27,
     "metadata": {},
     "output_type": "execute_result"
    }
   ],
   "source": [
    "w = [1,2,3,4,5]\n",
    "w[::-1]"
   ]
  },
  {
   "attachments": {},
   "cell_type": "markdown",
   "metadata": {},
   "source": [
    "#### 2. Containers [(Slides)](https://cs61a.org/assets/slides/12-Containers_4pp.pdf) ####"
   ]
  },
  {
   "attachments": {},
   "cell_type": "markdown",
   "metadata": {},
   "source": [
    "##### 2.1 Box-and-Pointer Notation #####"
   ]
  },
  {
   "attachments": {},
   "cell_type": "markdown",
   "metadata": {},
   "source": [
    "A good property of data type: **Closure**--The result of combination can itself be combined using the same method.\n",
    "\n",
    "This allows hierrachical structure of data."
   ]
  },
  {
   "cell_type": "code",
   "execution_count": null,
   "metadata": {},
   "outputs": [],
   "source": [
    "# Lists can contain lists as its element."
   ]
  }
 ],
 "metadata": {
  "kernelspec": {
   "display_name": "MLCV",
   "language": "python",
   "name": "python3"
  },
  "language_info": {
   "codemirror_mode": {
    "name": "ipython",
    "version": 3
   },
   "file_extension": ".py",
   "mimetype": "text/x-python",
   "name": "python",
   "nbconvert_exporter": "python",
   "pygments_lexer": "ipython3",
   "version": "3.7.11"
  },
  "orig_nbformat": 4,
  "vscode": {
   "interpreter": {
    "hash": "55b4e1546c513ecccf2a47902372bbeb25a4490bebaf169dd426906744ad30e3"
   }
  }
 },
 "nbformat": 4,
 "nbformat_minor": 2
}
