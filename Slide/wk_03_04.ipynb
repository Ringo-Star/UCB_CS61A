{
 "cells": [
  {
   "attachments": {},
   "cell_type": "markdown",
   "metadata": {},
   "source": [
    "### **Week 3,4: Function and Recursion** ###"
   ]
  },
  {
   "attachments": {},
   "cell_type": "markdown",
   "metadata": {},
   "source": [
    "#### 1. Example: Sound [(Video)](https://www.youtube.com/watch?v=TC_JcE42R2s&list=PL6BsET-8jgYVoDRPWXvw3q5ZsdpwVeEyY) ####"
   ]
  },
  {
   "attachments": {},
   "cell_type": "markdown",
   "metadata": {},
   "source": [
    "Why higher-order functions? We want to work in the space of functions! Take a look at the example below:  \n",
    "**Example:** Write a .wav file. WAV format is simple but not compressed, not much used these days. We can aquisite .wav from nature or just generate wave signal.\n",
    "\n",
    "![.wav File](../Sources/lec_06.png)"
   ]
  },
  {
   "cell_type": "code",
   "execution_count": 1,
   "metadata": {},
   "outputs": [],
   "source": [
    "from wave import open\n",
    "from struct import Struct\n",
    "from math import floor\n",
    "\n",
    "frame_rate = 11025\n",
    "\n",
    "def encode(x):\n",
    "    \"\"\"\n",
    "    Encode float x between -1 and 1 as 2 bytes.\n",
    "    See library [struct]\n",
    "    \"\"\"\n",
    "    i = int(16384*x)\n",
    "    return Struct('h').pack(i)\n",
    "\n",
    "def play(sampler, name='song.wav', seconds=2):\n",
    "    \"\"\"\n",
    "    Write the output of a sampler function as a wav file.\n",
    "    See library [wave]\n",
    "    \"\"\"\n",
    "    out = open(name,'wb')\n",
    "    out.setnchannels(1)\n",
    "    out.setsampwidth(2)\n",
    "    out.setframerate(frame_rate)\n",
    "    t = 0\n",
    "\n",
    "    while t < seconds*frame_rate:\n",
    "        sample = sampler(t)\n",
    "        out.writeframes(encode(sample))\n",
    "        t = t+1\n",
    "    out.close()\n",
    "\n",
    "def tri(frequency, amplitude=0.3):\n",
    "    \"\"\"A continuous triangle wave.\"\"\"\n",
    "    period = frame_rate // frequency\n",
    "    def sampler(t):\n",
    "        saw_wave = t/period - floor(t/period + 0.5)\n",
    "        tri_wave = 2*abs(2*saw_wave) - 1\n",
    "        return amplitude*tri_wave\n",
    "    return sampler\n",
    "\n",
    "c_freq = 261.63\n"
   ]
  },
  {
   "cell_type": "code",
   "execution_count": null,
   "metadata": {},
   "outputs": [],
   "source": [
    "# a demo to show triangle waves.\n",
    "c = tri(c_freq)\n",
    "t = 0\n",
    "while t < 100:\n",
    "    print(c(t))\n",
    "    t +=1\n",
    "\n",
    "play(c)"
   ]
  },
  {
   "cell_type": "code",
   "execution_count": 13,
   "metadata": {},
   "outputs": [],
   "source": [
    "c_freq, e_freq, g_freq = 261.63, 329.63, 392.00\n",
    "\n",
    "def both(f,g):\n",
    "    return lambda t: f(t) + g(t)\n",
    "\n",
    "play(both(tri(c_freq), tri(e_freq)))\n",
    "\n",
    "def note(f, start, end, fade=0.01):\n",
    "    def sampler(t):\n",
    "        seconds = t/frame_rate\n",
    "        if seconds < start:\n",
    "            return 0\n",
    "        elif seconds > end:\n",
    "            return 0\n",
    "        elif seconds < start + fade:\n",
    "            return (seconds-start) / fade * f(t)\n",
    "        elif seconds > end + fade:\n",
    "            return (end - seconds) / fade * f(t)\n",
    "        else:\n",
    "            return f(t)\n",
    "    return sampler\n",
    "\n",
    "c, e = tri(c_freq), tri(e_freq)\n",
    "play(both(note(c,0,1),note(e,1,2)))\n",
    "g, low_g = tri(g_freq), tri(g_freq / 2)\n",
    "\n",
    "### NOW THE TIME FOR MARIO!! ###\n",
    "def mario_at(octave):\n",
    "    c, e = tri(octave * c_freq), tri(octave * e_freq)\n",
    "    g, low_g = tri(octave * g_freq), tri(octave * g_freq / 2)\n",
    "    return mario(c,e,g,low_g)\n",
    "\n",
    "def mario(c,e,g,low_g):\n",
    "    z = 0\n",
    "    song = note(e,z,z+1/8)\n",
    "    z += 1/8\n",
    "    song = both(song, note(e,z,z+1/8))\n",
    "    z += 1/4\n",
    "    song = both(song, note(e,z,z+1/8))\n",
    "    z += 1/4\n",
    "    song = both(song, note(c,z,z+1/8))\n",
    "    z += 1/8\n",
    "    song = both(song, note(e,z,z+1/8))\n",
    "    z += 1/4\n",
    "    song = both(song, note(g,z,z+1/4))\n",
    "    z += 1/2\n",
    "    song = both(song, note(low_g,z,z+1/8))\n",
    "    z += 1/2\n",
    "    return song\n",
    "\n",
    "play(both(mario_at(2), mario_at(1)))"
   ]
  },
  {
   "attachments": {},
   "cell_type": "markdown",
   "metadata": {},
   "source": [
    "By the example of **sound**, we figure out that higher-order functions is a highly abstracted method of programming. We can apply this clever idea in practice.  \n",
    "**AT LEAST** We can play a wonderful mario music!"
   ]
  },
  {
   "attachments": {},
   "cell_type": "markdown",
   "metadata": {},
   "source": [
    "#### 2. Function Abstraction [(Slide)](https://cs61a.org/assets/slides/07-Functional_Abstraction_1pp.pdf) ####"
   ]
  },
  {
   "attachments": {},
   "cell_type": "markdown",
   "metadata": {},
   "source": [
    "##### 2.1 Lambda Function Environment #####  "
   ]
  },
  {
   "attachments": {},
   "cell_type": "markdown",
   "metadata": {},
   "source": [
    "![\"aha\"](../Sources/lec_07.png)"
   ]
  },
  {
   "cell_type": "code",
   "execution_count": 4,
   "metadata": {},
   "outputs": [
    {
     "data": {
      "text/plain": [
       "12"
      ]
     },
     "execution_count": 4,
     "metadata": {},
     "output_type": "execute_result"
    }
   ],
   "source": [
    "# A good example to show frame structure: \n",
    "#   in <lambda y: a + y>, a=3 because it is not in the body of any function and is in global frame.\n",
    "#   in <f(...)(a)>, a=3 because it is also in the global frame.\n",
    "#   but in f(g), it returns 2*g(y) because in this local frame of f(g), a = 2\n",
    "\n",
    "a = 3\n",
    "def f(g):\n",
    "    a = 2\n",
    "    return lambda y: a * g(y)\n",
    "\n",
    "f(lambda y: a + y)(a) # This always returns <a_in * (a_out + y)>, where y <- a_out\n"
   ]
  },
  {
   "attachments": {},
   "cell_type": "markdown",
   "metadata": {},
   "source": [
    "##### 2.2 Return and Control  #####"
   ]
  },
  {
   "attachments": {},
   "cell_type": "markdown",
   "metadata": {},
   "source": [
    "`Return` is seen usually when a call expression is ended, and we would expect some 'output' from this call expression. Once `Return` happens nothing would be executed in this function."
   ]
  },
  {
   "attachments": {},
   "cell_type": "markdown",
   "metadata": {},
   "source": [
    "In control, we see `if` statement, it execute \"if\" part if the cond is satisfied and skip \"else\" part.  \n",
    "How about write it in a call expression? See the code below."
   ]
  },
  {
   "cell_type": "code",
   "execution_count": 8,
   "metadata": {},
   "outputs": [],
   "source": [
    "def if_(cond, t, f):\n",
    "    \"\"\"The function returns t if cond is True, else it returns f.\"\"\"\n",
    "    if cond:\n",
    "        return t\n",
    "    else:\n",
    "        return f\n",
    "\n",
    "from math import sqrt\n",
    "\n",
    "def real_sqrt(x):\n",
    "    \"\"\"Return the real part of square root of x.\"\"\"\n",
    "    return if_(x>=0, sqrt(x), 0)\n",
    "\n",
    "# real_sqrt(-16)  # This would cause ValueError: math domain error,\n",
    "# because call expression evaluate all arguments even before executing the body of it."
   ]
  },
  {
   "attachments": {},
   "cell_type": "markdown",
   "metadata": {},
   "source": [
    "##### 2.3 Logical Expression #####"
   ]
  },
  {
   "attachments": {},
   "cell_type": "markdown",
   "metadata": {},
   "source": [
    "Some **evaluating rules** in Python:  \n",
    "1. `con_left and con_right`: First evaluate `con_left`, if `True`, then evaluate `con_right`.\n",
    "2. `con_left or con_right`: First evaluate `con_left`, if `False`, then evaluate `con_right`.\n",
    "\n",
    "This is useful in Python to avoid some crashes when we really executing some functions."
   ]
  },
  {
   "attachments": {},
   "cell_type": "markdown",
   "metadata": {},
   "source": [
    "##### 2.4 Functional Abstractions #####"
   ]
  },
  {
   "attachments": {},
   "cell_type": "markdown",
   "metadata": {},
   "source": [
    "We use a function in other functions, what would Python need for this kind of abstraction?  "
   ]
  },
  {
   "cell_type": "code",
   "execution_count": 10,
   "metadata": {},
   "outputs": [
    {
     "data": {
      "text/plain": [
       "13"
      ]
     },
     "execution_count": 10,
     "metadata": {},
     "output_type": "execute_result"
    }
   ],
   "source": [
    "def square(x):\n",
    "    return x*x\n",
    "\n",
    "def sum_square(x, y):\n",
    "    return square(x) + square(y)\n",
    "\n",
    "sum_square(2,3)"
   ]
  },
  {
   "attachments": {},
   "cell_type": "markdown",
   "metadata": {},
   "source": [
    "What does `sum_square` need to know about `square` ?  \n",
    "1. `square` takes one argument  \n",
    "2. `square` has the functionality to compute the square of a number.\n",
    "3. `square` does not need to know the **intrinsic name** or **how it is implemented**"
   ]
  },
  {
   "attachments": {},
   "cell_type": "markdown",
   "metadata": {},
   "source": [
    "##### 2.5 Errors and Tracebacks #####"
   ]
  },
  {
   "attachments": {},
   "cell_type": "markdown",
   "metadata": {},
   "source": [
    "Error comes in 3 forms:\n",
    "1. Syntax Error, those are detected before executing the code.\n",
    "2. Runtime Error, those found out during execution. It has a report to tell the line error happens.\n",
    "3. Behavior Error, the function just do the wrong thing."
   ]
  },
  {
   "attachments": {},
   "cell_type": "markdown",
   "metadata": {},
   "source": [
    "#### 3. Function Examples [(Slides)](https://cs61a.org/assets/slides/08-Function_Examples_1pp.pdf) ####"
   ]
  },
  {
   "attachments": {},
   "cell_type": "markdown",
   "metadata": {},
   "source": [
    "##### 3.1 Decorator  #####"
   ]
  },
  {
   "cell_type": "code",
   "execution_count": 1,
   "metadata": {},
   "outputs": [],
   "source": [
    "def trace1(fn):\n",
    "    \"\"\"Return a reversion of fn that print fuction and arguments when called.\n",
    "    \n",
    "    fn - a function of 1 argument.\n",
    "    \"\"\"\n",
    "    def traced(x):\n",
    "        print(\"Calling\", fn, 'on argument', x)\n",
    "        return fn(x)\n",
    "    return traced\n",
    "\n",
    "def square(x):\n",
    "    return x*x\n",
    "\n",
    "square = trace1(square)\n",
    "\n",
    "# When you use @ decorator, the following function will be part of a decorated function,\n",
    "# bounded to the function name again.\n",
    "@trace1\n",
    "def sum_squares_up_to(n):\n",
    "    k = 1 \n",
    "    total = 0\n",
    "    while k <= n:\n",
    "        total, k = total+square(k), k+1\n",
    "    return total"
   ]
  },
  {
   "cell_type": "code",
   "execution_count": 2,
   "metadata": {},
   "outputs": [
    {
     "name": "stdout",
     "output_type": "stream",
     "text": [
      "Calling <function sum_squares_up_to at 0x0000022AACB49DC8> on argument 5\n",
      "Calling <function square at 0x0000022AACB4E1F8> on argument 1\n",
      "Calling <function square at 0x0000022AACB4E1F8> on argument 2\n",
      "Calling <function square at 0x0000022AACB4E1F8> on argument 3\n",
      "Calling <function square at 0x0000022AACB4E1F8> on argument 4\n",
      "Calling <function square at 0x0000022AACB4E1F8> on argument 5\n"
     ]
    },
    {
     "data": {
      "text/plain": [
       "55"
      ]
     },
     "execution_count": 2,
     "metadata": {},
     "output_type": "execute_result"
    }
   ],
   "source": [
    "sum_squares_up_to(5)"
   ]
  },
  {
   "attachments": {},
   "cell_type": "markdown",
   "metadata": {},
   "source": [
    "#### 4. Recursion [(Slides1)](https://cs61a.org/assets/slides/09-Recursion_1pp.pdf) [(Slides2)](https://cs61a.org/assets/slides/10-Tree_Recursion_1pp.pdf) ####"
   ]
  },
  {
   "attachments": {},
   "cell_type": "markdown",
   "metadata": {},
   "source": [
    "##### 4.1 Self-Reference #####"
   ]
  },
  {
   "attachments": {},
   "cell_type": "markdown",
   "metadata": {},
   "source": [
    "A function can refer to **its own name.**  \n",
    "![-w10](../Sources/lec-09.jpg)"
   ]
  },
  {
   "cell_type": "code",
   "execution_count": 2,
   "metadata": {},
   "outputs": [
    {
     "name": "stdout",
     "output_type": "stream",
     "text": [
      "1\n",
      "3\n",
      "5\n",
      "7\n"
     ]
    },
    {
     "data": {
      "text/plain": [
       "<function __main__.print_all(x)>"
      ]
     },
     "execution_count": 2,
     "metadata": {},
     "output_type": "execute_result"
    }
   ],
   "source": [
    "def print_all(x):\n",
    "    print(x)\n",
    "    return print_all\n",
    "\n",
    "print_all(1)(3)(5)(7)"
   ]
  },
  {
   "cell_type": "code",
   "execution_count": 3,
   "metadata": {},
   "outputs": [
    {
     "name": "stdout",
     "output_type": "stream",
     "text": [
      "1\n",
      "4\n",
      "9\n"
     ]
    },
    {
     "data": {
      "text/plain": [
       "<function __main__.print_sums.<locals>.next_sum(y)>"
      ]
     },
     "execution_count": 3,
     "metadata": {},
     "output_type": "execute_result"
    }
   ],
   "source": [
    "def print_sums(x):\n",
    "    print(x)\n",
    "    def next_sum(y):\n",
    "        return print_sums(x+y)\n",
    "    return next_sum\n",
    "\n",
    "print_sums(1)(3)(5)"
   ]
  },
  {
   "attachments": {},
   "cell_type": "markdown",
   "metadata": {},
   "source": [
    "##### **4.2 Recursive Functions** #####"
   ]
  },
  {
   "attachments": {},
   "cell_type": "markdown",
   "metadata": {},
   "source": [
    "**Recursive Function:** A function that the body of it calls itself (either directly or indirectly). So executing recursive functions requires calling it again.  \n",
    "**Enviornment Diagram** of Recursive Function is important to understand."
   ]
  },
  {
   "cell_type": "code",
   "execution_count": 8,
   "metadata": {},
   "outputs": [
    {
     "data": {
      "text/plain": [
       "19"
      ]
     },
     "execution_count": 8,
     "metadata": {},
     "output_type": "execute_result"
    }
   ],
   "source": [
    "def split(n):\n",
    "    \"\"\"Split positive n into all but its last digit and its last digit.\"\"\"\n",
    "    return n // 10, n % 10\n",
    "\n",
    "# The def statement header is the same.\n",
    "# Check basic case without recursive calls.\n",
    "# Do recursive part in recursive cases.\n",
    "\n",
    "def sum_digits(n):\n",
    "    \"\"\"Return the sum of digits of positive integer n.\"\"\"\n",
    "    if n < 10:\n",
    "        return n\n",
    "    else:\n",
    "        all_but_last, last = split(n)        \n",
    "        return sum_digits(all_but_last) +  last \n",
    "\n",
    "sum_digits(1229203)"
   ]
  },
  {
   "cell_type": "code",
   "execution_count": 13,
   "metadata": {},
   "outputs": [
    {
     "data": {
      "text/plain": [
       "50"
      ]
     },
     "execution_count": 13,
     "metadata": {},
     "output_type": "execute_result"
    }
   ],
   "source": [
    "# This is an example of mutual recursion.\n",
    "\n",
    "def luhn_sum(n):\n",
    "    if n < 10:\n",
    "        return n\n",
    "    else:\n",
    "        all_but_last, last = split(n)\n",
    "        return luhn_sum_double(all_but_last) + last\n",
    "\n",
    "def luhn_sum_double(n):\n",
    "    all_but_last, last = split(n)\n",
    "    luhn_digit = sum_digits(2 * last)\n",
    "    if n < 10:\n",
    "        return luhn_digit\n",
    "    else:\n",
    "        return luhn_sum(all_but_last) + luhn_digit\n",
    "\n",
    "luhn_sum(6216630100000813263) #This is my unionpay debit card number."
   ]
  },
  {
   "attachments": {},
   "cell_type": "markdown",
   "metadata": {},
   "source": [
    "##### **4.3 Tree Recursion** #####"
   ]
  },
  {
   "attachments": {},
   "cell_type": "markdown",
   "metadata": {},
   "source": [
    "**Order of recursive functions** is important in understanding the behavior of recursion.  \n",
    "An important rule: When making a function call you must do anything else **after** it returns something.  \n",
    "eg: If (a) calls other functions, then it should wait until this call returns something and then do next things."
   ]
  },
  {
   "cell_type": "code",
   "execution_count": 15,
   "metadata": {},
   "outputs": [
    {
     "name": "stdout",
     "output_type": "stream",
     "text": [
      "12345\n",
      "1234\n",
      "123\n",
      "12\n",
      "1\n",
      "12\n",
      "123\n",
      "1234\n",
      "12345\n"
     ]
    }
   ],
   "source": [
    "def cascade(n):\n",
    "    if n < 10:\n",
    "        print(n)\n",
    "    else:\n",
    "        print(n)\n",
    "        cascade(n//10)\n",
    "        print(n)\n",
    "\n",
    "cascade(12345)"
   ]
  }
 ],
 "metadata": {
  "kernelspec": {
   "display_name": "MLCV",
   "language": "python",
   "name": "python3"
  },
  "language_info": {
   "codemirror_mode": {
    "name": "ipython",
    "version": 3
   },
   "file_extension": ".py",
   "mimetype": "text/x-python",
   "name": "python",
   "nbconvert_exporter": "python",
   "pygments_lexer": "ipython3",
   "version": "3.7.11 (default, Jul 27 2021, 09:42:29) [MSC v.1916 64 bit (AMD64)]"
  },
  "orig_nbformat": 4,
  "vscode": {
   "interpreter": {
    "hash": "55b4e1546c513ecccf2a47902372bbeb25a4490bebaf169dd426906744ad30e3"
   }
  }
 },
 "nbformat": 4,
 "nbformat_minor": 2
}
