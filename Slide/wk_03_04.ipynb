{
 "cells": [
  {
   "attachments": {},
   "cell_type": "markdown",
   "metadata": {},
   "source": [
    "### **Week 3,4: Function and Recursion** ###"
   ]
  },
  {
   "attachments": {},
   "cell_type": "markdown",
   "metadata": {},
   "source": [
    "#### 1. Example: Sound [(Video)](https://www.youtube.com/watch?v=TC_JcE42R2s&list=PL6BsET-8jgYVoDRPWXvw3q5ZsdpwVeEyY) ####"
   ]
  },
  {
   "attachments": {},
   "cell_type": "markdown",
   "metadata": {},
   "source": [
    "Why higher-order functions? We want to work in the space of functions! Take a look at the example below:  \n",
    "**Example:** Write a .wav file. WAV format is simple but not compressed, not much used these days. We can aquisite .wav from nature or just generate wave signal.\n",
    "\n",
    "![.wav File](../Sources/lec_06.png)"
   ]
  },
  {
   "cell_type": "code",
   "execution_count": 1,
   "metadata": {},
   "outputs": [],
   "source": [
    "from wave import open\n",
    "from struct import Struct\n",
    "from math import floor\n",
    "\n",
    "frame_rate = 11025\n",
    "\n",
    "def encode(x):\n",
    "    \"\"\"\n",
    "    Encode float x between -1 and 1 as 2 bytes.\n",
    "    See library [struct]\n",
    "    \"\"\"\n",
    "    i = int(16384*x)\n",
    "    return Struct('h').pack(i)\n",
    "\n",
    "def play(sampler, name='song.wav', seconds=2):\n",
    "    \"\"\"\n",
    "    Write the output of a sampler function as a wav file.\n",
    "    See library [wave]\n",
    "    \"\"\"\n",
    "    out = open(name,'wb')\n",
    "    out.setnchannels(1)\n",
    "    out.setsampwidth(2)\n",
    "    out.setframerate(frame_rate)\n",
    "    t = 0\n",
    "\n",
    "    while t < seconds*frame_rate:\n",
    "        sample = sampler(t)\n",
    "        out.writeframes(encode(sample))\n",
    "        t = t+1\n",
    "    out.close()\n",
    "\n",
    "def tri(frequency, amplitude=0.3):\n",
    "    \"\"\"A continuous triangle wave.\"\"\"\n",
    "    period = frame_rate // frequency\n",
    "    def sampler(t):\n",
    "        saw_wave = t/period - floor(t/period + 0.5)\n",
    "        tri_wave = 2*abs(2*saw_wave) - 1\n",
    "        return amplitude*tri_wave\n",
    "    return sampler\n",
    "\n",
    "c_freq = 261.63\n"
   ]
  },
  {
   "cell_type": "code",
   "execution_count": null,
   "metadata": {},
   "outputs": [],
   "source": [
    "# a demo to show triangle waves.\n",
    "c = tri(c_freq)\n",
    "t = 0\n",
    "while t < 100:\n",
    "    print(c(t))\n",
    "    t +=1\n",
    "\n",
    "play(c)"
   ]
  },
  {
   "cell_type": "code",
   "execution_count": 13,
   "metadata": {},
   "outputs": [],
   "source": [
    "c_freq, e_freq, g_freq = 261.63, 329.63, 392.00\n",
    "\n",
    "def both(f,g):\n",
    "    return lambda t: f(t) + g(t)\n",
    "\n",
    "play(both(tri(c_freq), tri(e_freq)))\n",
    "\n",
    "def note(f, start, end, fade=0.01):\n",
    "    def sampler(t):\n",
    "        seconds = t/frame_rate\n",
    "        if seconds < start:\n",
    "            return 0\n",
    "        elif seconds > end:\n",
    "            return 0\n",
    "        elif seconds < start + fade:\n",
    "            return (seconds-start) / fade * f(t)\n",
    "        elif seconds > end + fade:\n",
    "            return (end - seconds) / fade * f(t)\n",
    "        else:\n",
    "            return f(t)\n",
    "    return sampler\n",
    "\n",
    "c, e = tri(c_freq), tri(e_freq)\n",
    "play(both(note(c,0,1),note(e,1,2)))\n",
    "g, low_g = tri(g_freq), tri(g_freq / 2)\n",
    "\n",
    "### NOW THE TIME FOR MARIO!! ###\n",
    "def mario_at(octave):\n",
    "    c, e = tri(octave * c_freq), tri(octave * e_freq)\n",
    "    g, low_g = tri(octave * g_freq), tri(octave * g_freq / 2)\n",
    "    return mario(c,e,g,low_g)\n",
    "\n",
    "def mario(c,e,g,low_g):\n",
    "    z = 0\n",
    "    song = note(e,z,z+1/8)\n",
    "    z += 1/8\n",
    "    song = both(song, note(e,z,z+1/8))\n",
    "    z += 1/4\n",
    "    song = both(song, note(e,z,z+1/8))\n",
    "    z += 1/4\n",
    "    song = both(song, note(c,z,z+1/8))\n",
    "    z += 1/8\n",
    "    song = both(song, note(e,z,z+1/8))\n",
    "    z += 1/4\n",
    "    song = both(song, note(g,z,z+1/4))\n",
    "    z += 1/2\n",
    "    song = both(song, note(low_g,z,z+1/8))\n",
    "    z += 1/2\n",
    "    return song\n",
    "\n",
    "play(both(mario_at(2), mario_at(1)))"
   ]
  },
  {
   "attachments": {},
   "cell_type": "markdown",
   "metadata": {},
   "source": [
    "By the example of **sound**, we figure out that higher-order functions is a highly abstracted method of programming. We can apply this clever idea in practice.  \n",
    "**AT LEAST** We can play a wonderful mario music!"
   ]
  },
  {
   "attachments": {},
   "cell_type": "markdown",
   "metadata": {},
   "source": [
    "#### 2. Function Abstraction [(Slide)](https://cs61a.org/assets/slides/07-Functional_Abstraction_1pp.pdf) ####"
   ]
  },
  {
   "attachments": {},
   "cell_type": "markdown",
   "metadata": {},
   "source": [
    "##### 2.1 Lambda Function Environment #####  "
   ]
  },
  {
   "attachments": {},
   "cell_type": "markdown",
   "metadata": {},
   "source": [
    "![\"aha\"](../Sources/lec_07.png)"
   ]
  },
  {
   "cell_type": "code",
   "execution_count": 4,
   "metadata": {},
   "outputs": [
    {
     "data": {
      "text/plain": [
       "12"
      ]
     },
     "execution_count": 4,
     "metadata": {},
     "output_type": "execute_result"
    }
   ],
   "source": [
    "# A good example to show frame structure: \n",
    "#   in <lambda y: a + y>, a=3 because it is not in the body of any function and is in global frame.\n",
    "#   in <f(...)(a)>, a=3 because it is also in the global frame.\n",
    "#   but in f(g), it returns 2*g(y) because in this local frame of f(g), a = 2\n",
    "\n",
    "a = 3\n",
    "def f(g):\n",
    "    a = 2\n",
    "    return lambda y: a * g(y)\n",
    "\n",
    "f(lambda y: a + y)(a) # This always returns <a_in * (a_out + y)>, where y <- a_out\n"
   ]
  },
  {
   "attachments": {},
   "cell_type": "markdown",
   "metadata": {},
   "source": [
    "##### 2.2 Return  #####"
   ]
  },
  {
   "attachments": {},
   "cell_type": "markdown",
   "metadata": {},
   "source": [
    "`Return` is seen usually when a call expression is ended, and we would expect some 'output' from this call expression. Once `Return` happens nothing would be executed in this function."
   ]
  }
 ],
 "metadata": {
  "kernelspec": {
   "display_name": "MLCV",
   "language": "python",
   "name": "python3"
  },
  "language_info": {
   "codemirror_mode": {
    "name": "ipython",
    "version": 3
   },
   "file_extension": ".py",
   "mimetype": "text/x-python",
   "name": "python",
   "nbconvert_exporter": "python",
   "pygments_lexer": "ipython3",
   "version": "3.7.11"
  },
  "orig_nbformat": 4,
  "vscode": {
   "interpreter": {
    "hash": "55b4e1546c513ecccf2a47902372bbeb25a4490bebaf169dd426906744ad30e3"
   }
  }
 },
 "nbformat": 4,
 "nbformat_minor": 2
}
