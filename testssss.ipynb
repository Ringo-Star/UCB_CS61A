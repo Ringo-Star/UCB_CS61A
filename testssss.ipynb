{
 "cells": [
  {
   "cell_type": "code",
   "execution_count": 1,
   "metadata": {},
   "outputs": [],
   "source": [
    "def count_coins(change):\n",
    "    \"\"\"Return the number of ways to make change using coins of value of 1, 5, 10, 25.\"\"\"\n",
    "    \"*** YOUR CODE HERE ***\"\n",
    "    # Basic Cases\n",
    "    if change == 0:\n",
    "        return 1\n",
    "    elif change < 0:\n",
    "        return 0\n",
    "    else:\n",
    "        return count_coins(change-25) + count_coins(change-10) + count_coins(change-5) + count_coins(change-1)"
   ]
  },
  {
   "cell_type": "code",
   "execution_count": 7,
   "metadata": {},
   "outputs": [
    {
     "data": {
      "text/plain": [
       "3"
      ]
     },
     "execution_count": 7,
     "metadata": {},
     "output_type": "execute_result"
    }
   ],
   "source": [
    "count_coins(5)"
   ]
  }
 ],
 "metadata": {
  "kernelspec": {
   "display_name": "MLCV",
   "language": "python",
   "name": "python3"
  },
  "language_info": {
   "codemirror_mode": {
    "name": "ipython",
    "version": 3
   },
   "file_extension": ".py",
   "mimetype": "text/x-python",
   "name": "python",
   "nbconvert_exporter": "python",
   "pygments_lexer": "ipython3",
   "version": "3.7.11"
  },
  "orig_nbformat": 4,
  "vscode": {
   "interpreter": {
    "hash": "55b4e1546c513ecccf2a47902372bbeb25a4490bebaf169dd426906744ad30e3"
   }
  }
 },
 "nbformat": 4,
 "nbformat_minor": 2
}
