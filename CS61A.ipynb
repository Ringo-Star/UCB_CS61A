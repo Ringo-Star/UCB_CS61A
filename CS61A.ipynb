{
 "cells": [
  {
   "cell_type": "markdown",
   "metadata": {},
   "source": [
    "### CS61A:Structure and Interpretation of Computer Programs ###"
   ]
  },
  {
   "cell_type": "markdown",
   "metadata": {},
   "source": [
    "#### Overview [(Slides)](https://cs61a.org/assets/slides/01-Computer_Science_1pp.pdf) #### \n"
   ]
  },
  {
   "cell_type": "markdown",
   "metadata": {},
   "source": [
    "What is computer science? Many subfields, do not be too broad! Artificial intelligence $\\rightarrow$ NLP $\\rightarrow$ question answering.  \n",
    "\n",
    "What is this course about?  \n",
    "1. Abstraction!  \n",
    "2. Manage complexity!  \n",
    "3. Intro to Python.  \n",
    "4. How computer interpret programming languages.  \n",
    "5. Learn Scheme and SQL."
   ]
  },
  {
   "cell_type": "markdown",
   "metadata": {},
   "source": [
    "#### 1. Functions [(Slides)](https://cs61a.org/assets/slides/02-Functions_1pp.pdf) ####"
   ]
  },
  {
   "cell_type": "markdown",
   "metadata": {},
   "source": [
    "##### Expressions #####"
   ]
  },
  {
   "cell_type": "code",
   "execution_count": 6,
   "metadata": {},
   "outputs": [
    {
     "data": {
      "text/plain": [
       "208"
      ]
     },
     "execution_count": 6,
     "metadata": {},
     "output_type": "execute_result"
    }
   ],
   "source": [
    "# Use an example, we look into how nested expressions are interpreted by Python.\n",
    "\n",
    "def mul(a,b):\n",
    "    return a*b\n",
    "\n",
    "def add(a,b):\n",
    "    return a+b\n",
    "\n",
    "# This is a call expression, so from the most outside expression:\n",
    "# See its first operand, again it's call expression\n",
    "mul(add(2, mul(4,6)), add(3,5))"
   ]
  },
  {
   "cell_type": "markdown",
   "metadata": {},
   "source": [
    "##### Name, Assignment and user-defined function #####  \n",
    "name (need to be imported by users to be recognized)  \n",
    "assignment: 'name = expression' (仅仅在赋值时考虑变量的值，请看例子) "
   ]
  },
  {
   "cell_type": "code",
   "execution_count": 2,
   "metadata": {},
   "outputs": [
    {
     "name": "stdout",
     "output_type": "stream",
     "text": [
      "<built-in function min>\n",
      "1\n",
      "1\n"
     ]
    }
   ],
   "source": [
    "# Example 1\n",
    "max(1,2,3)\n",
    "f = max\n",
    "print(f)\n",
    "\n",
    "f(1,2,3)\n",
    "max = 7\n",
    "print(f(1,2,3))\n",
    "print(f(1,2,max))\n",
    "\n",
    "# This implies assignment of a name is 'one-time'.\n",
    "# If we don't want this to happen, we can use function to help us."
   ]
  },
  {
   "cell_type": "code",
   "execution_count": 1,
   "metadata": {},
   "outputs": [
    {
     "data": {
      "text/plain": [
       "3"
      ]
     },
     "execution_count": 1,
     "metadata": {},
     "output_type": "execute_result"
    }
   ],
   "source": [
    "# Example 2: Remember to restart before running this cell.\n",
    "f = min\n",
    "f = max\n",
    "g, h = min, max\n",
    "max = g\n",
    "max(f(2,g(h(1,5),3)),4)"
   ]
  },
  {
   "cell_type": "markdown",
   "metadata": {},
   "source": [
    "##### Environment Diagrams #####\n",
    "ED visualises the interpreter's process: Names can be bounded to at most one value.\n"
   ]
  },
  {
   "cell_type": "code",
   "execution_count": 4,
   "metadata": {},
   "outputs": [
    {
     "data": {
      "text/plain": [
       "(2, 3)"
      ]
     },
     "execution_count": 4,
     "metadata": {},
     "output_type": "execute_result"
    }
   ],
   "source": [
    "# Assignment Statements: First calculate values of right of '='\n",
    "# then assign them to left of the '=' \n",
    "a = 1\n",
    "b = 2\n",
    "b, a = a+b, b\n",
    "a, b"
   ]
  },
  {
   "cell_type": "markdown",
   "metadata": {},
   "source": [
    "##### Define Functions #####\n",
    "When we define a function, it creates a **local frame** to store the names and their values used in the function. Priority: **local frame -> global frame**  \n",
    "Every expression is evaluated in the context of an **environment(a sequence of frames)**, value of a name is bounded to the first frame it appears.  "
   ]
  },
  {
   "cell_type": "code",
   "execution_count": 5,
   "metadata": {},
   "outputs": [],
   "source": [
    "# Example 1\n",
    "def name(parameters):\n",
    "    \"\"\"\n",
    "    name(parameters) -> the function signature, indicating number of arguments.\n",
    "    return -> the function body define the computational process of a body.\n",
    "    \"\"\"\n",
    "    expression = parameters * parameters\n",
    "    return expression\n"
   ]
  },
  {
   "cell_type": "code",
   "execution_count": 7,
   "metadata": {},
   "outputs": [
    {
     "data": {
      "text/plain": [
       "4"
      ]
     },
     "execution_count": 7,
     "metadata": {},
     "output_type": "execute_result"
    }
   ],
   "source": [
    "# Example 2\n",
    "from operator import mul\n",
    "def square(square):\n",
    "    return mul(square, square)\n",
    "\n",
    "square(2)\n",
    "# Why does it work? Because we look into local frame first\n",
    "# where the value of square is 2 instead of a function."
   ]
  },
  {
   "cell_type": "markdown",
   "metadata": {},
   "source": [
    "#### 2. Control [(Slides)](https://cs61a.org/assets/slides/03-Control_1pp.pdf) ####"
   ]
  },
  {
   "cell_type": "markdown",
   "metadata": {},
   "source": [
    "##### Print and None #####"
   ]
  },
  {
   "cell_type": "markdown",
   "metadata": {},
   "source": [
    "**Intro:** What is the difference between \"print(expression)\" and \"expression\"?   \n",
    "Python has a specific rule for automatically printing values of names, see the examples below:"
   ]
  },
  {
   "cell_type": "code",
   "execution_count": 10,
   "metadata": {},
   "outputs": [
    {
     "name": "stdout",
     "output_type": "stream",
     "text": [
      "Go bears\n"
     ]
    },
    {
     "data": {
      "text/plain": [
       "'Go bears'"
      ]
     },
     "execution_count": 10,
     "metadata": {},
     "output_type": "execute_result"
    }
   ],
   "source": [
    "# Example\n",
    "print('Go bears')\n",
    "'Go bears'"
   ]
  },
  {
   "cell_type": "markdown",
   "metadata": {},
   "source": [
    "**None:**\n",
    "1. None means nothing is returned from function(also when a function does not explicitly return a value).\n",
    "2. None will not be displayed by interpreter as value of an expression."
   ]
  },
  {
   "cell_type": "code",
   "execution_count": 17,
   "metadata": {},
   "outputs": [
    {
     "name": "stdout",
     "output_type": "stream",
     "text": [
      "1\n",
      "None\n"
     ]
    }
   ],
   "source": [
    "# None\n",
    "# print(None)\n",
    "\n",
    "# print(1,2,3)\n",
    "# print(None, None)\n",
    "print(print(1))"
   ]
  },
  {
   "cell_type": "markdown",
   "metadata": {},
   "source": [
    "**Pure function and non-pure function:** pure function only returns while non-pure function has a side effect."
   ]
  },
  {
   "cell_type": "code",
   "execution_count": 18,
   "metadata": {},
   "outputs": [
    {
     "name": "stdout",
     "output_type": "stream",
     "text": [
      "1\n",
      "2\n",
      "None None\n"
     ]
    }
   ],
   "source": [
    "print(print(1),print(2))"
   ]
  },
  {
   "cell_type": "markdown",
   "metadata": {},
   "source": [
    "##### Multiple Environment #####"
   ]
  },
  {
   "cell_type": "markdown",
   "metadata": {},
   "source": [
    "local -> global: by finding the parent of the current frame."
   ]
  },
  {
   "cell_type": "code",
   "execution_count": 19,
   "metadata": {},
   "outputs": [
    {
     "data": {
      "text/plain": [
       "81"
      ]
     },
     "execution_count": 19,
     "metadata": {},
     "output_type": "execute_result"
    }
   ],
   "source": [
    "from operator import mul\n",
    "def square(x):\n",
    "    return mul(x,x)\n",
    "\n",
    "square(square(3))"
   ]
  },
  {
   "cell_type": "markdown",
   "metadata": {},
   "source": [
    "##### Miscellaneous(杂乱的) Feature #####"
   ]
  },
  {
   "cell_type": "code",
   "execution_count": null,
   "metadata": {},
   "outputs": [],
   "source": [
    "from operator import add, mul, truediv, floordiv, mod\n",
    "\n",
    "print(mul(add(2,3),add(4,5)))\n",
    "print(truediv(2013,10))\n",
    "print(floordiv(2013,10))\n",
    "print(mod(5,3))\n"
   ]
  },
  {
   "cell_type": "markdown",
   "metadata": {},
   "source": [
    "#### 3. High-Order-Functions [(Slides)](https://cs61a.org/assets/slides/04-Higher-Order_Functions_1pp.pdf) ####"
   ]
  },
  {
   "cell_type": "markdown",
   "metadata": {},
   "source": [
    "**prime factorization(质因子)**"
   ]
  },
  {
   "cell_type": "code",
   "execution_count": null,
   "metadata": {},
   "outputs": [],
   "source": [
    "def prime_factors(n):\n",
    "    \"\"\"\n",
    "    Print the prime factors of n in non-decreasing order.\n",
    "    >>> prime_factors(8)\n",
    "    2\n",
    "    2\n",
    "    2\n",
    "    >>> prime_factors(858)\n",
    "    2\n",
    "    3\n",
    "    11\n",
    "    13\n",
    "    \"\"\"\n",
    "    while n>1:\n",
    "        k = smallest_factor(n)\n",
    "        n = n // k\n",
    "        print(k)\n",
    "\n",
    "def smallest_factor(n):\n",
    "    \"\"\"\n",
    "    Return the samallest prime factor j > 1 that evenly divides n.\n",
    "    \"\"\"\n",
    "    k =2 \n",
    "    # find the smallest factor equals to find the smallest prime factor\n",
    "    while n % k != 0:\n",
    "        k = k+1\n",
    "    return k\n",
    "\n",
    "prime_factors(858)"
   ]
  },
  {
   "cell_type": "markdown",
   "metadata": {},
   "source": [
    "**Fibonacci Sequence**"
   ]
  },
  {
   "cell_type": "code",
   "execution_count": null,
   "metadata": {},
   "outputs": [],
   "source": [
    "# When implementing an iteration function,\n",
    "# Keep track of the information you really need.\n",
    "def fibonacci(n):\n",
    "    \"\"\"\n",
    "    Compute the Nth fibonacci number in the sequence. 0 is the 0th number.\n",
    "    \"\"\"\n",
    "    former, curr = 0, 1\n",
    "    k = 1\n",
    "    while k<n:\n",
    "        former, curr = curr, former+curr\n",
    "        k += 1\n",
    "    return curr"
   ]
  },
  {
   "cell_type": "markdown",
   "metadata": {},
   "source": [
    "**Designing Functions**"
   ]
  },
  {
   "cell_type": "markdown",
   "metadata": {},
   "source": [
    "About Function:\n",
    "1. Domain: all the possible inputs it takes as arguments.\n",
    "2. Range: all values a function may return.\n",
    "3. We study pure functions = relationship between inputs and outputs. \n",
    " \n",
    "Some principles:  \n",
    "1. Give each function one job.\n",
    "2. Use iterations.\n",
    "3. Define functions generally."
   ]
  },
  {
   "cell_type": "markdown",
   "metadata": {},
   "source": [
    "**Higher Order Functions**\n",
    "\n",
    "Generalize a common pattern by functions with proper arguments.  \n",
    "The common structure may be a process rather than an argumetnnt."
   ]
  },
  {
   "cell_type": "code",
   "execution_count": 32,
   "metadata": {},
   "outputs": [],
   "source": [
    "# Example: compute area of geometric shapes\n",
    "from math import pi, sqrt\n",
    "\n",
    "def area(r, shape_constant):\n",
    "    \"\"\"\n",
    "    Given a shape and its length, compute its area.\n",
    "    \"\"\"\n",
    "    assert r>0, 'A length must be positive'\n",
    "    return r*r*shape_constant\n",
    "\n",
    "def area_square(r):\n",
    "    # report Error if the boolean statement is False\n",
    "    assert r>0, 'A radius must be postive'\n",
    "    return r*r\n",
    "\n",
    "def area_circle(r):\n",
    "    return pi*r*r\n",
    "\n",
    "def area_hexagon(r):\n",
    "    return r*r*3*sqrt(3)/2"
   ]
  },
  {
   "cell_type": "code",
   "execution_count": 34,
   "metadata": {},
   "outputs": [
    {
     "data": {
      "text/plain": [
       "55"
      ]
     },
     "execution_count": 34,
     "metadata": {},
     "output_type": "execute_result"
    }
   ],
   "source": [
    "# 计算立方和以及平方和，可以用一个通用的方法来实现\n",
    "def square(k):\n",
    "    return k*k\n",
    "\n",
    "def cube(k):\n",
    "    return pow(k, 3)\n",
    "\n",
    "def summation(n, term):\n",
    "    \"\"\"\n",
    "    sum the first n terms of a sequence.\n",
    "    The term argument should be a function.\n",
    "    \"\"\"\n",
    "    total, k = 0, 1\n",
    "    while k <= n:\n",
    "        total, k = total + term(k), k+1\n",
    "    return total\n",
    "\n",
    "summation(5, square)"
   ]
  },
  {
   "cell_type": "markdown",
   "metadata": {},
   "source": [
    "**Functions as return values**  \n",
    "Functions can be manipulated as values in Python programming language."
   ]
  },
  {
   "cell_type": "code",
   "execution_count": 45,
   "metadata": {},
   "outputs": [],
   "source": [
    "def pi_term(k):\n",
    "    return 8/mul(4*k-3, 4*k-1)\n",
    "\n",
    "assert abs(summation(1000000, pi_term)-pi) < 1e-6"
   ]
  },
  {
   "cell_type": "code",
   "execution_count": 43,
   "metadata": {},
   "outputs": [],
   "source": [
    "# A function that returns a function.\n",
    "def make_adder(n):\n",
    "    \"\"\"\n",
    "    Return a function that take argument K and return n+K\n",
    "    \"\"\"\n",
    "    def adder(k):\n",
    "        return k+n\n",
    "    return adder\n",
    "\n",
    "# Functions defined within other function body are bound to names in a local frame.\n",
    "assert make_adder(1)(2) == 3"
   ]
  }
 ],
 "metadata": {
  "kernelspec": {
   "display_name": "Python 3.9.7 ('base')",
   "language": "python",
   "name": "python3"
  },
  "language_info": {
   "codemirror_mode": {
    "name": "ipython",
    "version": 3
   },
   "file_extension": ".py",
   "mimetype": "text/x-python",
   "name": "python",
   "nbconvert_exporter": "python",
   "pygments_lexer": "ipython3",
   "version": "3.9.7"
  },
  "orig_nbformat": 4,
  "vscode": {
   "interpreter": {
    "hash": "88279d2366fe020547cde40dd65aa0e3aa662a6ec1f3ca12d88834876c85e1a6"
   }
  }
 },
 "nbformat": 4,
 "nbformat_minor": 2
}
